{
 "cells": [
  {
   "cell_type": "code",
   "execution_count": 2,
   "metadata": {
    "collapsed": true
   },
   "outputs": [],
   "source": [
    "import tensorflow as tf\n",
    "import numpy as np\n",
    "import datetime\n",
    "import math\n",
    "#%autoindent\n",
    "try:\n",
    "    from tqdm import tqdm\n",
    "except ImportError:\n",
    "    def tqdm(x, *args, **kwargs):\n",
    "        return x\n",
    "\n",
    "# read in data"
   ]
  },
  {
   "cell_type": "code",
   "execution_count": 12,
   "metadata": {
    "collapsed": false
   },
   "outputs": [],
   "source": [
    "filename = '/Users/Gene/Google Drive/UCI2016Winter/274C NRL NTWKS&DEEP LRNG Lec A /Project/Gene-Git/stock-prediction/Udemy-Tensorflow-Code/5582_04_Code/5582_04_01_Code/weather.npz'\n",
    "data = np.load(filename)\n",
    "daily = data['daily']\n",
    "weekly = data['weekly']\n",
    "\n",
    "num_weeks = len(weekly)\n",
    "dates = np.array([datetime.datetime.strptime(str(int(d)),\n",
    "                '%Y%m%d') for d in weekly[:,0]])\n",
    "##########################################################\n",
    "def assign_season(date):\n",
    "    ''' Assign season based on meteorological season.\n",
    "        Spring - from Mar 1 to May 31\n",
    "        Summer - from Jun 1 to Aug 31\n",
    "        Autumn - from Sep 1 to Nov 30\n",
    "        Winter - from Dec 1 to Feb 28 (Feb 29 in a leap year)\n",
    "    '''\n",
    "    month = date.month\n",
    "    # spring = 0\n",
    "    if 3 <= month < 6:\n",
    "        season = 0\n",
    "    # summer = 1\n",
    "    elif 6 <= month < 9:\n",
    "        season = 1\n",
    "    # autumn = 2\n",
    "    elif 9 <= month < 12:\n",
    "        season = 2\n",
    "    # winter = 3\n",
    "    elif month == 12 or month < 3:\n",
    "        season = 3\n",
    "    return season\n",
    "############################################################\n",
    "\n",
    "# There are 4 seasons\n",
    "num_classes = 4\n",
    "\n",
    "# and 5 variables\n",
    "num_inputs = 5\n",
    "\n",
    "# And a state of 11 numbers\n",
    "state_size = 11\n",
    "\n",
    "labels = np.zeros([num_weeks,num_classes])\n",
    "# read and convert to one-hot\n",
    "for i,d in enumerate(dates):\n",
    "    labels[i,assign_season(d)] = 1\n",
    "\n",
    "# extract and scale training data\n",
    "train = weekly[:,1:]\n",
    "train = train - np.average(train,axis=0)\n",
    "train = train / train.std(axis=0)\n"
   ]
  },
  {
   "cell_type": "code",
   "execution_count": 3,
   "metadata": {
    "collapsed": false
   },
   "outputs": [
    {
     "data": {
      "text/plain": [
       "[<matplotlib.lines.Line2D at 0x116fdbc10>]"
      ]
     },
     "execution_count": 3,
     "metadata": {},
     "output_type": "execute_result"
    },
    {
     "data": {
      "image/png": "[encoded data removed]",
      "text/plain": [
       "<matplotlib.figure.Figure at 0x11663d4d0>"
      ]
     },
     "metadata": {},
     "output_type": "display_data"
    }
   ],
   "source": [
    "# Startup TensorFlow\n",
    "sess = tf.InteractiveSession()\n",
    "\n",
    "# These will be inputs\n",
    "x = tf.placeholder(\"float\", [None, num_inputs])\n",
    "# TF likes a funky input to RNN\n",
    "x_ = tf.reshape(x, [1, num_weeks, num_inputs])\n",
    "\n",
    "## Known labels\n",
    "# None works during variable creation to be\n",
    "# unspecified size\n",
    "y_ = tf.placeholder(\"float\", [None,num_classes])\n",
    "\n",
    "cell = tf.nn.rnn_cell.BasicRNNCell(state_size)\n",
    "outputs, states = tf.nn.dynamic_rnn(cell,x_,\n",
    "            dtype=tf.nn.dtypes.float32, initial_state=None)\n",
    "\n",
    "W1 = tf.Variable(tf.truncated_normal([state_size,num_classes],\n",
    "                          stddev=1./math.sqrt(num_inputs)))\n",
    "b1 = tf.Variable(tf.constant(0.1,shape=[num_classes]))\n",
    "\n",
    "# reshape the output for traditional usage\n",
    "h1 = tf.reshape(outputs,[-1,state_size])\n",
    "\n",
    "# Just initialize\n",
    "sess.run(tf.initialize_all_variables())\n",
    "\n",
    "# Logistic regression as usual\n",
    "y = tf.nn.softmax(tf.matmul(h1, W1) + b1)\n",
    "\n",
    "# Climb on cross-entropy\n",
    "cross_entropy = tf.reduce_mean(\n",
    "     tf.nn.softmax_cross_entropy_with_logits(y + 1e-50, y_))\n",
    "\n",
    "# How we train\n",
    "train_step = tf.train.GradientDescentOptimizer(0.01\n",
    "                    ).minimize(cross_entropy)\n",
    "\n",
    "# Define accuracy\n",
    "correct_prediction = tf.equal(tf.argmax(y,1),tf.argmax(y_,1))\n",
    "accuracy=tf.reduce_mean(tf.cast(correct_prediction, \"float\"))\n",
    "\n",
    "# Actually train\n",
    "epochs = 100\n",
    "train_acc = np.zeros(epochs//10)\n",
    "for i in tqdm(range(epochs), ascii=True):\n",
    "    if i % 10 == 0:  # Record summary data, and the accuracy\n",
    "        # Check accuracy on train set\n",
    "        A = accuracy.eval(feed_dict={x: train, y_: labels})\n",
    "        train_acc[i//10] = A\n",
    "    train_step.run(feed_dict={x: train, y_: labels})\n",
    "\n",
    "import matplotlib.pyplot as plt\n",
    "plt.ion()\n",
    "plt.figure(figsize=(6, 6))\n",
    "plt.plot(train_acc)\n"
   ]
  },
  {
   "cell_type": "code",
   "execution_count": 13,
   "metadata": {
    "collapsed": false
   },
   "outputs": [
    {
     "ename": "ImportError",
     "evalue": "No module named skflow",
     "output_type": "error",
     "traceback": [
      "\u001b[0;31m---------------------------------------------------------------------------\u001b[0m",
      "\u001b[0;31mImportError\u001b[0m                               Traceback (most recent call last)",
      "\u001b[0;32m<ipython-input-13-da2b2e9d2932>\u001b[0m in \u001b[0;36m<module>\u001b[0;34m()\u001b[0m\n\u001b[1;32m      1\u001b[0m \u001b[0;31m# can it be done with skflow?\u001b[0m\u001b[0;34m\u001b[0m\u001b[0;34m\u001b[0m\u001b[0m\n\u001b[0;32m----> 2\u001b[0;31m \u001b[0;32mimport\u001b[0m \u001b[0mtensorflow\u001b[0m\u001b[0;34m.\u001b[0m\u001b[0mcontrib\u001b[0m\u001b[0;34m.\u001b[0m\u001b[0mskflow\u001b[0m \u001b[0;32mas\u001b[0m \u001b[0mskflow\u001b[0m\u001b[0;34m\u001b[0m\u001b[0m\n\u001b[0m\u001b[1;32m      3\u001b[0m \u001b[0;32mfrom\u001b[0m \u001b[0msklearn\u001b[0m \u001b[0;32mimport\u001b[0m \u001b[0mmetrics\u001b[0m\u001b[0;34m\u001b[0m\u001b[0m\n\u001b[1;32m      4\u001b[0m \u001b[0;34m\u001b[0m\u001b[0m\n\u001b[1;32m      5\u001b[0m \u001b[0;31m# To pass in data correctly\u001b[0m\u001b[0;34m\u001b[0m\u001b[0;34m\u001b[0m\u001b[0m\n",
      "\u001b[0;31mImportError\u001b[0m: No module named skflow"
     ]
    }
   ],
   "source": [
    "# can it be done with skflow?\n",
    "import tensorflow.contrib.skflow as skflow\n",
    "from sklearn import metrics\n",
    "\n",
    "# To pass in data correctly\n",
    "def listify(x):\n",
    "    return [x]\n",
    "\n",
    "# Undo the one_hot encoding\n",
    "classes = [assign_season(d) for d in dates]\n",
    "\n",
    "# One line model\n",
    "classifier = skflow.TensorFlowRNNClassifier(rnn_size=11, \n",
    "    n_classes=4, cell_type='rnn', input_op_fn = listify,\n",
    "    num_layers=8,\n",
    "    steps=1000, optimizer='Adam',\n",
    "    learning_rate=0.01, continue_training=True)\n",
    "\n",
    "# Train model\n",
    "classifier.fit(train, classes )\n",
    "\n",
    "# simple accuracy\n",
    "metrics.accuracy_score(classes,classifier.predict(train))\n",
    "\n",
    "# confusion is easy in skflow\n",
    "conf = metrics.confusion_matrix(classes,\n",
    "            classifier.predict(train))\n",
    "print(conf)"
   ]
  },
  {
   "cell_type": "code",
   "execution_count": 8,
   "metadata": {
    "collapsed": false
   },
   "outputs": [
    {
     "ename": "ImportError",
     "evalue": "No module named skflow",
     "output_type": "error",
     "traceback": [
      "\u001b[0;31m---------------------------------------------------------------------------\u001b[0m",
      "\u001b[0;31mImportError\u001b[0m                               Traceback (most recent call last)",
      "\u001b[0;32m<ipython-input-8-9b308647fef4>\u001b[0m in \u001b[0;36m<module>\u001b[0;34m()\u001b[0m\n\u001b[1;32m      7\u001b[0m \u001b[0;31m# pip install \\\u001b[0m\u001b[0;34m\u001b[0m\u001b[0;34m\u001b[0m\u001b[0m\n\u001b[1;32m      8\u001b[0m \u001b[0;31m# https://github.com/tensorflow/skflow/archive/master.zip\u001b[0m\u001b[0;34m\u001b[0m\u001b[0;34m\u001b[0m\u001b[0m\n\u001b[0;32m----> 9\u001b[0;31m \u001b[0;32mimport\u001b[0m \u001b[0mtensorflow\u001b[0m\u001b[0;34m.\u001b[0m\u001b[0mcontrib\u001b[0m\u001b[0;34m.\u001b[0m\u001b[0mskflow\u001b[0m \u001b[0;32mas\u001b[0m \u001b[0mskflow\u001b[0m\u001b[0;34m\u001b[0m\u001b[0m\n\u001b[0m\u001b[1;32m     10\u001b[0m \u001b[0;34m\u001b[0m\u001b[0m\n\u001b[1;32m     11\u001b[0m \u001b[0;31m# Learn more sklearn\u001b[0m\u001b[0;34m\u001b[0m\u001b[0;34m\u001b[0m\u001b[0m\n",
      "\u001b[0;31mImportError\u001b[0m: No module named skflow"
     ]
    }
   ],
   "source": [
    "import tensorflow as tf\n",
    "import numpy as np\n",
    "import math\n",
    "# Learn more skflow\n",
    "# github.com/tensorflow/skflow\n",
    "# Or install\n",
    "# pip install \\\n",
    "# https://github.com/tensorflow/skflow/archive/master.zip\n",
    "import tensorflow.contrib.skflow as skflow\n",
    "\n",
    "# Learn more sklearn\n",
    "# scikit-learn.org\n",
    "import sklearn\n",
    "from sklearn import metrics\n",
    "\n",
    "%autoindent\n",
    "try:\n",
    "    from tqdm import tqdm\n",
    "except ImportError:\n",
    "    def tqdm(x, *args, **kwargs):\n",
    "        return x\n",
    "\n",
    "# Seed the data\n",
    "np.random.seed(0)\n",
    "\n",
    "# Load data\n",
    "data = np.load('data_with_labels.npz')\n",
    "train = data['arr_0']/255.\n",
    "labels = data['arr_1']\n",
    "\n",
    "# Look at some data\n",
    "print(train[0])\n",
    "print(labels[0])\n",
    "\n",
    "# If you have matplotlib installed\n",
    "import matplotlib.pyplot as plt\n",
    "plt.ion()\n",
    "\n",
    "# Split data into training and validation\n",
    "indices = np.random.permutation(train.shape[0])\n",
    "valid_cnt = int(train.shape[0] * 0.1)\n",
    "test_idx, training_idx = indices[:valid_cnt],\\\n",
    "                         indices[valid_cnt:]\n",
    "test, train = train[test_idx,:],\\\n",
    "              train[training_idx,:]\n",
    "test_labels, train_labels = labels[test_idx],\\\n",
    "                        labels[training_idx]\n",
    "\n",
    "sess = tf.InteractiveSession()\n",
    "\n",
    "# Logistic Regression\n",
    "# steps is number of total batches\n",
    "# steps/batch_size = num_epochs\n",
    "classifier = skflow.TensorFlowLinearClassifier(\n",
    "            n_classes=5,\n",
    "            steps=1000,\n",
    "            optimizer='Adam',\n",
    "            learning_rate=0.01,\n",
    "            continue_training=True)\n",
    "\n",
    "# One line training\n",
    "classifier.fit(train.reshape([-1,36*36]),train_labels)\n",
    "\n",
    "# sklearn compatible accuracy\n",
    "sklearn.metrics.accuracy_score(test_labels,\n",
    "        classifier.predict(test.reshape([-1,36*36])))\n",
    "\n",
    "# Dense neural net\n",
    "classifier = skflow.TensorFlowDNNClassifier(\n",
    "            hidden_units=[10,5],\n",
    "            n_classes=5,\n",
    "            steps=1000,\n",
    "            optimizer='Adam',\n",
    "            learning_rate=0.01,\n",
    "            continue_training=True)\n",
    "classifier.fit(train.reshape([-1,36*36]),train_labels)\n",
    "\n",
    "# simple accuracy\n",
    "sklearn.metrics.accuracy_score(test_labels,\n",
    "        classifier.predict(test.reshape([-1,36*36])))\n",
    "\n",
    "# confusion is easy\n",
    "conf = metrics.confusion_matrix(train_labels,\n",
    "        classifier.predict(train.reshape([-1,36*36])))\n",
    "print(conf)\n",
    "\n",
    "### Convolutional net\n",
    "def conv_skflow(X, y):\n",
    "    X = tf.reshape(X, [-1, 36, 36, 1])\n",
    "    # conv layer will compute 4 kernels for each 5x5 patch\n",
    "    with tf.variable_scope('conv_layer'):\n",
    "        # 5x5 convolution, pad with zeros on edges\n",
    "        h1 = skflow.ops.conv2d(X, n_filters=4,\n",
    "                filter_shape=[5, 5], \n",
    "                bias=True, activation=tf.nn.relu)\n",
    "        # 2x2 Max pooling, no padding on edges\n",
    "        p1 = tf.nn.max_pool(h1, ksize=[1, 2, 2, 1],\n",
    "                strides=[1, 2, 2, 1], padding='VALID')\n",
    "\n",
    "    # Need to flatten conv output for use in dense layer\n",
    "    p1_size = np.product(\n",
    "              [s.value for s in p1.get_shape()[1:]])\n",
    "    p1f = tf.reshape(p1, [-1, p1_size ])\n",
    "\n",
    "    # densely connected layer with 32 neurons and dropout\n",
    "    h_fc1 = skflow.ops.dnn(p1f,\n",
    "            [32],\n",
    "            activation=tf.nn.relu,\n",
    "            dropout=0.5)\n",
    "    return skflow.models.logistic_regression(h_fc1, y)\n",
    "\n",
    "# Use generic estimator with our function\n",
    "classifier = skflow.TensorFlowEstimator(\n",
    "            model_fn=conv_skflow,\n",
    "            n_classes=5,\n",
    "            steps=1000,\n",
    "            optimizer='Adam',\n",
    "            learning_rate=0.01,\n",
    "            continue_training=True)\n",
    "classifier.fit(train,train_labels)\n",
    "\n",
    "# simple accuracy\n",
    "metrics.accuracy_score(test_labels,classifier.predict(test))\n",
    "\n",
    "# URL for another skflow weight example\n",
    "# https://github.com/tensorflow/tensorflow/blob/master/tensorflow/examples/skflow/mnist_weights.py\n",
    "\n",
    "# Convolutional Layer Weights\n",
    "print(classifier.get_tensor_value(\n",
    "        'conv_layer/convolution/filters:0'))\n",
    "print(classifier.get_tensor_value(\n",
    "        'conv_layer/convolution/bias:0'))\n",
    "\n",
    "# Dense Layer\n",
    "print(classifier.get_tensor_value(\n",
    "        'dnn/layer0/Linear/Matrix:0'))\n",
    "\n",
    "# Logistic weights\n",
    "print(classifier.get_tensor_value(\n",
    "        'logistic_regression/weights:0'))\n",
    "\n",
    "\n",
    "\n"
   ]
  },
  {
   "cell_type": "code",
   "execution_count": 7,
   "metadata": {
    "collapsed": false
   },
   "outputs": [
    {
     "name": "stdout",
     "output_type": "stream",
     "text": [
      "6\n"
     ]
    }
   ],
   "source": [
    "X=np.array([[1,2],[3,4],[5,6]])\n",
    "print X.size"
   ]
  },
  {
   "cell_type": "code",
   "execution_count": 10,
   "metadata": {
    "collapsed": false
   },
   "outputs": [
    {
     "ename": "TypeError",
     "evalue": "reshape() takes at least 2 arguments (1 given)",
     "output_type": "error",
     "traceback": [
      "\u001b[0;31m---------------------------------------------------------------------------\u001b[0m",
      "\u001b[0;31mTypeError\u001b[0m                                 Traceback (most recent call last)",
      "\u001b[0;32m<ipython-input-10-2c2b6e22dd59>\u001b[0m in \u001b[0;36m<module>\u001b[0;34m()\u001b[0m\n\u001b[1;32m      1\u001b[0m \u001b[0;31m#X=np.reshape(X,(X.size,))\u001b[0m\u001b[0;34m\u001b[0m\u001b[0;34m\u001b[0m\u001b[0m\n\u001b[0;32m----> 2\u001b[0;31m \u001b[0mX\u001b[0m\u001b[0;34m=\u001b[0m\u001b[0mnp\u001b[0m\u001b[0;34m.\u001b[0m\u001b[0mreshape\u001b[0m\u001b[0;34m(\u001b[0m\u001b[0;34m(\u001b[0m\u001b[0mX\u001b[0m\u001b[0;34m.\u001b[0m\u001b[0msize\u001b[0m\u001b[0;34m,\u001b[0m\u001b[0;34m)\u001b[0m\u001b[0;34m)\u001b[0m\u001b[0;34m\u001b[0m\u001b[0m\n\u001b[0m\u001b[1;32m      3\u001b[0m \u001b[0;32mprint\u001b[0m \u001b[0mX\u001b[0m\u001b[0;34m.\u001b[0m\u001b[0mshape\u001b[0m\u001b[0;34m\u001b[0m\u001b[0m\n\u001b[1;32m      4\u001b[0m \u001b[0;32mprint\u001b[0m \u001b[0mX\u001b[0m\u001b[0;34m\u001b[0m\u001b[0m\n",
      "\u001b[0;31mTypeError\u001b[0m: reshape() takes at least 2 arguments (1 given)"
     ]
    }
   ],
   "source": [
    "#X=np.reshape(X,(X.size,))\n",
    "X=np.reshape(X,(X.size,))\n",
    "print X.shape\n",
    "print X\n"
   ]
  },
  {
   "cell_type": "code",
   "execution_count": null,
   "metadata": {
    "collapsed": true
   },
   "outputs": [],
   "source": []
  }
 ],
 "metadata": {
  "kernelspec": {
   "display_name": "Python 2",
   "language": "python",
   "name": "python2"
  },
  "language_info": {
   "codemirror_mode": {
    "name": "ipython",
    "version": 2
   },
   "file_extension": ".py",
   "mimetype": "text/x-python",
   "name": "python",
   "nbconvert_exporter": "python",
   "pygments_lexer": "ipython2",
   "version": "2.7.13"
  }
 },
 "nbformat": 4,
 "nbformat_minor": 2
}
