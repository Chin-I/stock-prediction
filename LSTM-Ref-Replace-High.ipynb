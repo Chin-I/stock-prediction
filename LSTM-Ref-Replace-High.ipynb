{
 "cells": [
  {
   "cell_type": "code",
   "execution_count": 119,
   "metadata": {},
   "outputs": [],
   "source": [
    "#Hyper Parameter\n",
    "look_back = 3\n",
    "epochs = 100\n",
    "batch_size = 2\n",
    "verbose = 2"
   ]
  },
  {
   "cell_type": "code",
   "execution_count": 120,
   "metadata": {},
   "outputs": [],
   "source": [
    "# Ref https://machinelearningmastery.com/time-series-prediction-lstm-recurrent-neural-networks-python-keras/\n",
    "# LSTM for Regression with Time Steps\n",
    "import numpy\n",
    "import matplotlib.pyplot as plt\n",
    "from pandas import read_csv\n",
    "import math\n",
    "from keras.models import Sequential\n",
    "from keras.layers import Dense\n",
    "from keras.layers import LSTM\n",
    "from sklearn.preprocessing import MinMaxScaler\n",
    "from sklearn.metrics import mean_squared_error"
   ]
  },
  {
   "cell_type": "code",
   "execution_count": 121,
   "metadata": {},
   "outputs": [],
   "source": [
    "import plotly.graph_objects as go #pip install plotly\n",
    "import mplfinance as mpf #pip install mplfinance\n",
    "import matplotlib\n",
    "import pandas as pd\n",
    "from datetime import datetime\n",
    "import yfinance as yf\n",
    "from pandas_datareader import data as pdr\n",
    "from matplotlib.pyplot import figure\n",
    "\n",
    "import matplotlib.pyplot as plt\n",
    "# from mpl_finance import candlestick_ohlc\n",
    "from mplfinance.original_flavor import candlestick_ohlc\n"
   ]
  },
  {
   "cell_type": "code",
   "execution_count": 122,
   "metadata": {},
   "outputs": [
    {
     "name": "stdout",
     "output_type": "stream",
     "text": [
      "                  High         Low        Open       Close      Volume  \\\n",
      "Date                                                                     \n",
      "2019-01-02  101.750000   98.940002   99.550003  101.120003  35329300.0   \n",
      "2019-01-03  100.190002   97.199997  100.099998   97.400002  42579100.0   \n",
      "2019-01-04  102.510002   98.930000   99.720001  101.930000  44060600.0   \n",
      "2019-01-07  103.269997  100.980003  101.639999  102.059998  35656100.0   \n",
      "2019-01-08  103.970001  101.709999  103.040001  102.800003  31514400.0   \n",
      "\n",
      "             Adj Close  \n",
      "Date                    \n",
      "2019-01-02   99.646614  \n",
      "2019-01-03   95.980820  \n",
      "2019-01-04  100.444817  \n",
      "2019-01-07  100.572922  \n",
      "2019-01-08  101.302139  \n"
     ]
    }
   ],
   "source": [
    "# fix random seed for reproducibility\n",
    "numpy.random.seed(7)\n",
    "# load the dataset\n",
    "# dataframe = read_csv('airline-passengers2.csv', usecols=[1], encoding ='latin1', engine='c') #python')\n",
    "# dataframe = pdr.get_data_yahoo(\"SPY\", start=\"2019-01-01\", end=\"2020-01-31\")\n",
    "dataframe = pdr.get_data_yahoo(\"MSFT\", start=\"2019-01-01\", end=\"2020-01-31\")\n",
    "\n",
    "print(dataframe.head())"
   ]
  },
  {
   "cell_type": "code",
   "execution_count": 123,
   "metadata": {},
   "outputs": [
    {
     "name": "stdout",
     "output_type": "stream",
     "text": [
      "                  High\n",
      "Date                  \n",
      "2019-01-02  101.750000\n",
      "2019-01-03  100.190002\n",
      "2019-01-04  102.510002\n",
      "2019-01-07  103.269997\n",
      "2019-01-08  103.970001\n"
     ]
    }
   ],
   "source": [
    "#temp compromise\n",
    "dataframe = dataframe[[\"High\"]]\n",
    "print(dataframe.head())"
   ]
  },
  {
   "cell_type": "code",
   "execution_count": 124,
   "metadata": {},
   "outputs": [
    {
     "name": "stdout",
     "output_type": "stream",
     "text": [
      "<class 'numpy.ndarray'>\n",
      "(273, 1)\n"
     ]
    }
   ],
   "source": [
    "dataset = dataframe.values\n",
    "print(type(dataset))\n",
    "print(dataset.shape)\n",
    "dataset = dataset.astype('float32')\n",
    "# normalize the dataset\n",
    "scaler = MinMaxScaler(feature_range=(0, 1))\n",
    "dataset = scaler.fit_transform(dataset)\n",
    "# split into train and test sets\n",
    "train_size = int(len(dataset) * 0.67)\n",
    "test_size = len(dataset) - train_size\n",
    "train, test = dataset[0:train_size,:], dataset[train_size:len(dataset),:]"
   ]
  },
  {
   "cell_type": "code",
   "execution_count": 125,
   "metadata": {},
   "outputs": [],
   "source": [
    "# convert an array of values into a dataset matrix\n",
    "def create_dataset(dataset, look_back=1, col=0):#default col = \"High\"\n",
    "    dataX, dataY = [], []\n",
    "    for i in range(len(dataset)-look_back-1):#less one? not necessary\n",
    "        a = dataset[i:(i+look_back), :] #col] #if all use : instead col\n",
    "        dataX.append(a)\n",
    "        dataY.append(dataset[i + look_back, col])\n",
    "    return numpy.array(dataX), numpy.array(dataY)"
   ]
  },
  {
   "cell_type": "code",
   "execution_count": 126,
   "metadata": {},
   "outputs": [
    {
     "name": "stdout",
     "output_type": "stream",
     "text": [
      "before create_dataset\n",
      "(182, 1)\n",
      "(91, 1)\n",
      "\n",
      "after create_dataset\n",
      "<class 'numpy.ndarray'> 178\n",
      "(178, 3, 1)\n",
      "<class 'numpy.ndarray'> 178\n",
      "(178,)\n",
      "\n",
      "after reshape\n",
      "<class 'numpy.ndarray'> 178\n",
      "(178, 3, 1)\n",
      "<class 'numpy.ndarray'> 87\n",
      "(87, 3, 1)\n"
     ]
    }
   ],
   "source": [
    "# reshape into X=t and Y=t+1\n",
    "#(..)\n",
    "\n",
    "print(\"before create_dataset\")\n",
    "print(train.shape)\n",
    "print(test.shape)\n",
    "# print(test[-5:])\n",
    "trainX, trainY = create_dataset(train, look_back)\n",
    "testX, testY = create_dataset(test, look_back)\n",
    "print(\"\\nafter create_dataset\")\n",
    "print(type(trainX),len(trainX))\n",
    "print(trainX.shape)\n",
    "# print(testX[-4:])\n",
    "print(type(trainY),len(trainY))\n",
    "print(trainY.shape)\n",
    "# print(testY[-1:])\n",
    "\n",
    "# reshape input to be [samples, time steps, features]\n",
    "trainX = numpy.reshape(trainX, (trainX.shape[0], trainX.shape[1], 1))\n",
    "testX = numpy.reshape(testX, (testX.shape[0], testX.shape[1], 1))\n",
    "print(\"\\nafter reshape\")\n",
    "print(type(trainX),len(trainX))\n",
    "print(trainX.shape)\n",
    "# print(trainX[-1:])\n",
    "print(type(testX),len(testX))\n",
    "print(testX.shape)"
   ]
  },
  {
   "cell_type": "code",
   "execution_count": null,
   "metadata": {},
   "outputs": [],
   "source": []
  },
  {
   "cell_type": "code",
   "execution_count": 127,
   "metadata": {},
   "outputs": [
    {
     "name": "stdout",
     "output_type": "stream",
     "text": [
      "Epoch 1/100\n",
      " - 0s - loss: 0.0820\n",
      "Epoch 2/100\n",
      " - 0s - loss: 0.0178\n",
      "Epoch 3/100\n",
      " - 0s - loss: 0.0116\n",
      "Epoch 4/100\n",
      " - 0s - loss: 0.0085\n",
      "Epoch 5/100\n",
      " - 0s - loss: 0.0056\n",
      "Epoch 6/100\n",
      " - 0s - loss: 0.0035\n",
      "Epoch 7/100\n",
      " - 0s - loss: 0.0021\n",
      "Epoch 8/100\n",
      " - 0s - loss: 0.0013\n",
      "Epoch 9/100\n",
      " - 0s - loss: 9.1255e-04\n",
      "Epoch 10/100\n",
      " - 0s - loss: 7.8617e-04\n",
      "Epoch 11/100\n",
      " - 0s - loss: 7.6370e-04\n",
      "Epoch 12/100\n",
      " - 0s - loss: 7.4820e-04\n",
      "Epoch 13/100\n",
      " - 0s - loss: 7.4328e-04\n",
      "Epoch 14/100\n",
      " - 0s - loss: 7.3543e-04\n",
      "Epoch 15/100\n",
      " - 0s - loss: 7.7570e-04\n",
      "Epoch 16/100\n",
      " - 0s - loss: 7.4248e-04\n",
      "Epoch 17/100\n",
      " - 0s - loss: 7.3801e-04\n",
      "Epoch 18/100\n",
      " - 0s - loss: 7.1806e-04\n",
      "Epoch 19/100\n",
      " - 0s - loss: 7.1832e-04\n",
      "Epoch 20/100\n",
      " - 0s - loss: 7.6071e-04\n",
      "Epoch 21/100\n",
      " - 0s - loss: 7.3379e-04\n",
      "Epoch 22/100\n",
      " - 0s - loss: 7.1608e-04\n",
      "Epoch 23/100\n",
      " - 0s - loss: 7.1143e-04\n",
      "Epoch 24/100\n",
      " - 0s - loss: 7.1081e-04\n",
      "Epoch 25/100\n",
      " - 0s - loss: 7.5315e-04\n",
      "Epoch 26/100\n",
      " - 0s - loss: 7.1932e-04\n",
      "Epoch 27/100\n",
      " - 0s - loss: 7.3073e-04\n",
      "Epoch 28/100\n",
      " - 0s - loss: 7.0756e-04\n",
      "Epoch 29/100\n",
      " - 0s - loss: 6.8442e-04\n",
      "Epoch 30/100\n",
      " - 0s - loss: 6.7408e-04\n",
      "Epoch 31/100\n",
      " - 0s - loss: 6.5378e-04\n",
      "Epoch 32/100\n",
      " - 0s - loss: 6.8292e-04\n",
      "Epoch 33/100\n",
      " - 0s - loss: 7.8562e-04\n",
      "Epoch 34/100\n",
      " - 0s - loss: 7.0310e-04\n",
      "Epoch 35/100\n",
      " - 0s - loss: 6.7782e-04\n",
      "Epoch 36/100\n",
      " - 0s - loss: 6.8747e-04\n",
      "Epoch 37/100\n",
      " - 0s - loss: 6.7251e-04\n",
      "Epoch 38/100\n",
      " - 0s - loss: 6.6655e-04\n",
      "Epoch 39/100\n",
      " - 0s - loss: 6.9339e-04\n",
      "Epoch 40/100\n",
      " - 0s - loss: 7.2760e-04\n",
      "Epoch 41/100\n",
      " - 0s - loss: 6.8616e-04\n",
      "Epoch 42/100\n",
      " - 0s - loss: 6.5715e-04\n",
      "Epoch 43/100\n",
      " - 0s - loss: 7.0230e-04\n",
      "Epoch 44/100\n",
      " - 0s - loss: 6.4146e-04\n",
      "Epoch 45/100\n",
      " - 0s - loss: 6.6803e-04\n",
      "Epoch 46/100\n",
      " - 0s - loss: 7.3921e-04\n",
      "Epoch 47/100\n",
      " - 0s - loss: 6.4421e-04\n",
      "Epoch 48/100\n",
      " - 0s - loss: 6.6901e-04\n",
      "Epoch 49/100\n",
      " - 0s - loss: 6.5205e-04\n",
      "Epoch 50/100\n",
      " - 0s - loss: 6.7223e-04\n",
      "Epoch 51/100\n",
      " - 0s - loss: 6.4050e-04\n",
      "Epoch 52/100\n",
      " - 0s - loss: 7.1491e-04\n",
      "Epoch 53/100\n",
      " - 0s - loss: 6.5095e-04\n",
      "Epoch 54/100\n",
      " - 0s - loss: 6.6634e-04\n",
      "Epoch 55/100\n",
      " - 0s - loss: 6.2955e-04\n",
      "Epoch 56/100\n",
      " - 0s - loss: 6.9613e-04\n",
      "Epoch 57/100\n",
      " - 0s - loss: 6.2543e-04\n",
      "Epoch 58/100\n",
      " - 0s - loss: 6.0828e-04\n",
      "Epoch 59/100\n",
      " - 0s - loss: 6.0235e-04\n",
      "Epoch 60/100\n",
      " - 0s - loss: 6.4054e-04\n",
      "Epoch 61/100\n",
      " - 0s - loss: 6.2225e-04\n",
      "Epoch 62/100\n",
      " - 0s - loss: 6.2420e-04\n",
      "Epoch 63/100\n",
      " - 0s - loss: 6.2533e-04\n",
      "Epoch 64/100\n",
      " - 0s - loss: 6.2122e-04\n",
      "Epoch 65/100\n",
      " - 0s - loss: 6.3953e-04\n",
      "Epoch 66/100\n",
      " - 0s - loss: 6.2795e-04\n",
      "Epoch 67/100\n",
      " - 0s - loss: 6.2129e-04\n",
      "Epoch 68/100\n",
      " - 0s - loss: 6.1006e-04\n",
      "Epoch 69/100\n",
      " - 0s - loss: 6.3621e-04\n",
      "Epoch 70/100\n",
      " - 0s - loss: 6.2395e-04\n",
      "Epoch 71/100\n",
      " - 0s - loss: 6.0586e-04\n",
      "Epoch 72/100\n",
      " - 0s - loss: 6.3208e-04\n",
      "Epoch 73/100\n",
      " - 0s - loss: 6.1692e-04\n",
      "Epoch 74/100\n",
      " - 0s - loss: 6.4153e-04\n",
      "Epoch 75/100\n",
      " - 0s - loss: 6.0340e-04\n",
      "Epoch 76/100\n",
      " - 0s - loss: 6.0927e-04\n",
      "Epoch 77/100\n",
      " - 0s - loss: 6.0416e-04\n",
      "Epoch 78/100\n",
      " - 0s - loss: 6.2513e-04\n",
      "Epoch 79/100\n",
      " - 0s - loss: 6.2436e-04\n",
      "Epoch 80/100\n",
      " - 0s - loss: 6.2409e-04\n",
      "Epoch 81/100\n",
      " - 0s - loss: 6.1493e-04\n",
      "Epoch 82/100\n",
      " - 0s - loss: 5.8431e-04\n",
      "Epoch 83/100\n",
      " - 0s - loss: 6.1708e-04\n",
      "Epoch 84/100\n",
      " - 0s - loss: 6.5146e-04\n",
      "Epoch 85/100\n",
      " - 0s - loss: 6.2431e-04\n",
      "Epoch 86/100\n",
      " - 0s - loss: 5.9589e-04\n",
      "Epoch 87/100\n",
      " - 0s - loss: 6.5497e-04\n",
      "Epoch 88/100\n",
      " - 0s - loss: 6.0880e-04\n",
      "Epoch 89/100\n",
      " - 0s - loss: 6.0565e-04\n",
      "Epoch 90/100\n",
      " - 0s - loss: 5.9453e-04\n",
      "Epoch 91/100\n",
      " - 0s - loss: 5.9945e-04\n",
      "Epoch 92/100\n",
      " - 0s - loss: 5.8202e-04\n",
      "Epoch 93/100\n",
      " - 0s - loss: 5.7738e-04\n",
      "Epoch 94/100\n",
      " - 0s - loss: 6.2788e-04\n",
      "Epoch 95/100\n",
      " - 0s - loss: 5.8715e-04\n",
      "Epoch 96/100\n",
      " - 0s - loss: 6.0546e-04\n",
      "Epoch 97/100\n",
      " - 0s - loss: 6.0059e-04\n",
      "Epoch 98/100\n",
      " - 0s - loss: 6.1357e-04\n",
      "Epoch 99/100\n",
      " - 0s - loss: 6.0297e-04\n",
      "Epoch 100/100\n",
      " - 0s - loss: 5.7220e-04\n"
     ]
    },
    {
     "data": {
      "text/plain": [
       "<keras.callbacks.callbacks.History at 0x14a0b4cf8>"
      ]
     },
     "execution_count": 127,
     "metadata": {},
     "output_type": "execute_result"
    }
   ],
   "source": [
    "# create and fit the LSTM network\n",
    "model = Sequential()\n",
    "model.add(LSTM(4, input_shape=(look_back, 1)))\n",
    "model.add(Dense(1))\n",
    "model.compile(loss='mean_squared_error', optimizer='adam')\n",
    "#(..)\n",
    "model.fit(trainX, trainY, epochs=epochs, batch_size=batch_size, verbose=verbose)"
   ]
  },
  {
   "cell_type": "code",
   "execution_count": 128,
   "metadata": {},
   "outputs": [],
   "source": [
    "# make predictions\n",
    "trainPredict = model.predict(trainX)\n",
    "testPredict = model.predict(testX)"
   ]
  },
  {
   "cell_type": "code",
   "execution_count": 129,
   "metadata": {},
   "outputs": [
    {
     "name": "stdout",
     "output_type": "stream",
     "text": [
      "<class 'numpy.ndarray'> (178, 1)\n",
      "[[0.03104685]\n",
      " [0.03715293]\n",
      " [0.05326516]\n",
      " [0.06328295]\n",
      " [0.06567358]]\n",
      "<class 'numpy.ndarray'> (178,)\n",
      "[0.04170048]\n"
     ]
    }
   ],
   "source": [
    "print(type(trainPredict),trainPredict.shape)\n",
    "print(trainPredict[:5])\n",
    "# print(trainPredict[-5:])\n",
    "print(type(trainY),trainY.shape)\n",
    "print(trainY[:1])"
   ]
  },
  {
   "cell_type": "code",
   "execution_count": 130,
   "metadata": {},
   "outputs": [],
   "source": [
    "# invert predictions\n",
    "trainPredict = scaler.inverse_transform(trainPredict)\n",
    "trainY = scaler.inverse_transform([trainY])\n",
    "testPredict = scaler.inverse_transform(testPredict)\n",
    "testY = scaler.inverse_transform([testY])"
   ]
  },
  {
   "cell_type": "code",
   "execution_count": 131,
   "metadata": {},
   "outputs": [
    {
     "name": "stdout",
     "output_type": "stream",
     "text": [
      "<class 'numpy.ndarray'> (178, 1)\n",
      "[[102.48312]\n",
      " [102.93411]\n",
      " [104.12417]\n",
      " [104.86408]\n",
      " [105.04065]]\n",
      "<class 'numpy.ndarray'> (1, 178)\n",
      "[[103.26999859 103.96999765 104.87999996 103.75000096 103.44000163\n",
      "  102.87000541 105.050003   106.26000239 106.62999762 107.90000171\n",
      "  107.09999774 107.04000185 107.00000165 107.8799972  106.47999908\n",
      "  104.9700026  106.37999418 105.21999724 104.1000005  105.80000451\n",
      "  107.27000079 107.00000165 105.58999247 105.78000001 106.58000397\n",
      "  107.13999794 107.78000111 107.29000529 108.30000369 108.66000547\n",
      "  107.9400019  109.48000513 111.19999604 112.17999649 113.23999734\n",
      "  112.36000178 112.87999555 113.02000065 113.24999959 112.38999973\n",
      "  112.66000767 111.55000437 110.71000021 112.9499937  113.98999885\n",
      "  114.99999725 115.19999824 117.25000179 117.61000357 118.44000548\n",
      "  118.74999601 120.82000406 119.59000017 118.01000555 118.70999581\n",
      "  118.20999774 117.58000562 118.31999608 119.10999779 119.48000183\n",
      "  120.43000433 120.23000334 120.23000334 120.0200001  119.53999772\n",
      "  120.34999513 120.85000201 120.98000485 121.57999902 121.64999717\n",
      "  121.84999816 123.51999542 123.9999978  125.58000122 125.85000036\n",
      "  131.36999248 130.52000368 130.17998878 130.70000017 130.64999772\n",
      "  128.         129.42999608 128.55999397 127.18000034 126.37000293\n",
      "  125.79000446 127.93000185 125.55000327 125.87999831 126.71000021\n",
      "  129.38000243 130.46000778 127.58999577 127.52999987 128.24000119\n",
      "  126.29000254 127.42000153 128.         125.39000248 125.76000652\n",
      "  124.62000527 124.37000183 123.28000304 125.87000486 127.97000205\n",
      "  132.24999684 134.0800037  134.24000449 131.97000425 132.99999835\n",
      "  133.78999126 133.72999536 135.24000944 135.92998865 137.65999942\n",
      "  137.72999756 138.39998987 137.58999247 135.74000752 134.71000462\n",
      "  134.60000627 136.69999466 136.58999632 137.74000862 137.33000439\n",
      "  137.10000545 136.9700026  138.58000397 139.21999834 139.1300045\n",
      "  139.53999112 139.0500041  137.92998975 136.61999427 140.66999892\n",
      "  139.19000039 139.99000435 140.74000587 140.61000302 141.67998851\n",
      "  141.50999427 141.21999944 140.49000243 140.93999805 138.32000709\n",
      "  133.92999635 135.67999401 135.64999607 138.9900082  139.38000794\n",
      "  137.86000041 138.80000066 136.92000015 134.58000177 136.46001108\n",
      "  138.55000603 138.71000682 139.49000628 139.19999384 138.35000504\n",
      "  135.55999342 136.71999916 135.75999441 138.43999888 139.17998934\n",
      "  137.19999274 137.69000617 140.38000408 140.17999429 139.75000316\n",
      "  136.89000221 136.27000354 138.41999438 138.0600014  136.69999466\n",
      "  137.52000313 138.66999782 142.36999413]]\n"
     ]
    }
   ],
   "source": [
    "print(type(trainPredict),trainPredict.shape)\n",
    "print(trainPredict[:5])\n",
    "# print(trainPredict[-5:])\n",
    "\n",
    "print(type(trainY),trainY.shape)\n",
    "# print(trainY[:1])"
   ]
  },
  {
   "cell_type": "code",
   "execution_count": 132,
   "metadata": {},
   "outputs": [
    {
     "name": "stdout",
     "output_type": "stream",
     "text": [
      "Train Score: 1.73 RMSE\n",
      "Test Score: 4.08 RMSE\n"
     ]
    }
   ],
   "source": [
    "# calculate root mean squared error\n",
    "trainScore = math.sqrt(mean_squared_error(trainY[0], trainPredict[:,0]))\n",
    "print('Train Score: %.2f RMSE' % (trainScore))\n",
    "testScore = math.sqrt(mean_squared_error(testY[0], testPredict[:,0]))\n",
    "print('Test Score: %.2f RMSE' % (testScore))\n",
    "# shift train predictions for plotting\n",
    "trainPredictPlot = numpy.empty_like(dataset)\n",
    "trainPredictPlot[:, :] = numpy.nan\n",
    "trainPredictPlot[look_back:len(trainPredict)+look_back, :] = trainPredict\n",
    "# shift test predictions for plotting\n",
    "testPredictPlot = numpy.empty_like(dataset)\n",
    "testPredictPlot[:, :] = numpy.nan\n",
    "testPredictPlot[len(trainPredict)+(look_back*2)+1:len(dataset)-1, :] = testPredict"
   ]
  },
  {
   "cell_type": "code",
   "execution_count": 133,
   "metadata": {},
   "outputs": [
    {
     "data": {
      "image/png": "[encoded data removed]",
      "text/plain": [
       "<Figure size 432x288 with 1 Axes>"
      ]
     },
     "metadata": {},
     "output_type": "display_data"
    }
   ],
   "source": [
    "# plot baseline and predictions\n",
    "plt.plot(scaler.inverse_transform(dataset))\n",
    "plt.plot(trainPredictPlot)\n",
    "plt.plot(testPredictPlot)\n",
    "plt.show()"
   ]
  },
  {
   "cell_type": "code",
   "execution_count": 134,
   "metadata": {},
   "outputs": [],
   "source": [
    "# The YHat has one day delay compared with Y, that's the reason for previous bad performance\n",
    "def evaluateY(Y, YHat):\n",
    "    total = len(Y[0])\n",
    "    \n",
    "    count = 0\n",
    "    for i in range(1, total-1):\n",
    "#         print(i)\n",
    "#         print(YHat[i] - YHat[i-1],Y[0][i] - Y[0][i-1])\n",
    "        if (YHat[i][0] - YHat[i-1][0]) * (Y[0][i] - Y[0][i-1]) > 0:\n",
    "            count += 1\n",
    "#         print(i,count)\n",
    "    print(\"Trend prediction performance: {}%\".format(count * 100.0 / total))\n"
   ]
  },
  {
   "cell_type": "code",
   "execution_count": 160,
   "metadata": {},
   "outputs": [
    {
     "name": "stdout",
     "output_type": "stream",
     "text": [
      "[ 1  2  3 -7]\n",
      "[  1   1 -10]\n",
      "[  0 -11]\n"
     ]
    }
   ],
   "source": [
    "# import numpy as np\n",
    "# x = np.array([1, 2, 4, 7, 0])\n",
    "# print(np.diff(x))\n",
    "# # print( np.diff(x, n=2) )\n",
    "# # print( np.diff(x, n=3) )"
   ]
  },
  {
   "cell_type": "code",
   "execution_count": 169,
   "metadata": {},
   "outputs": [
    {
     "name": "stdout",
     "output_type": "stream",
     "text": [
      "<class 'numpy.ndarray'> (86,)\n",
      "[ 0.18000529 -1.14000124  1.0300029  -3.88001041  0.38000628]\n",
      "[1 0 1 0 1]\n"
     ]
    }
   ],
   "source": [
    "trend_testY = numpy.diff(testY[0])\n",
    "print(type(trend_testY), trend_testY.shape)\n",
    "print(trend_testY[:5])\n",
    "trend_testY = numpy.where(trend_testY >0,1, 0)\n",
    "#df # trend_testY = trend_testY.apply(lambda x: 1 if x > 0 else 0)\n",
    "print(trend_testY[:5])"
   ]
  },
  {
   "cell_type": "code",
   "execution_count": 170,
   "metadata": {},
   "outputs": [
    {
     "name": "stdout",
     "output_type": "stream",
     "text": [
      "<class 'numpy.ndarray'>\n",
      "<class 'numpy.ndarray'> (86,)\n",
      "[ 0.15594482 -0.08992004 -0.23202515  0.02693176 -1.219162  ]\n",
      "[1 0 0 1 0]\n"
     ]
    }
   ],
   "source": [
    "print( type( testPredict.flatten() ) )\n",
    "trend_testP = numpy.diff(testPredict.flatten())\n",
    "print(type(trend_testP),trend_testP.shape)\n",
    "print(trend_testP[:5])\n",
    "trend_testP = numpy.where(trend_testP >0, 1, 0)\n",
    "print(trend_testP[:5])\n",
    "#df # trend_testP = list(testY[0].apply(lambda x: 1 if x > 0 else 0)"
   ]
  },
  {
   "cell_type": "code",
   "execution_count": null,
   "metadata": {},
   "outputs": [],
   "source": [
    "#(..)Result"
   ]
  },
  {
   "cell_type": "code",
   "execution_count": 186,
   "metadata": {},
   "outputs": [
    {
     "name": "stdout",
     "output_type": "stream",
     "text": [
      "0.47674418604651164\n"
     ]
    }
   ],
   "source": [
    "from sklearn.metrics import accuracy_score\n",
    "print( accuracy_score(trend_testY, trend_testP, normalize = True) )\n",
    "# print( accuracy_score(trend_testY, trend_testP , normalize=False) )"
   ]
  },
  {
   "cell_type": "code",
   "execution_count": 187,
   "metadata": {},
   "outputs": [
    {
     "data": {
      "text/plain": [
       "(0.576271186440678, 0.6296296296296297, 0.6017699115044248, None)"
      ]
     },
     "execution_count": 187,
     "metadata": {},
     "output_type": "execute_result"
    }
   ],
   "source": [
    "from sklearn.metrics import precision_recall_fscore_support\n",
    "precision_recall_fscore_support(trend_testY, trend_testP, average='binary') #, average='macro')\n"
   ]
  },
  {
   "cell_type": "code",
   "execution_count": 188,
   "metadata": {},
   "outputs": [
    {
     "data": {
      "text/plain": [
       "0.576271186440678"
      ]
     },
     "execution_count": 188,
     "metadata": {},
     "output_type": "execute_result"
    }
   ],
   "source": [
    "from sklearn.metrics import precision_score\n",
    "# >>> y_true = [0, 1, 2, 0, 1, 2]\n",
    "# >>> y_pred = [0, 2, 1, 0, 0, 1]\n",
    "# >>> precision_score(y_true, y_pred, average='macro')\n",
    "precision_score(trend_testY, trend_testP, average='binary')"
   ]
  },
  {
   "cell_type": "code",
   "execution_count": 189,
   "metadata": {},
   "outputs": [
    {
     "data": {
      "text/plain": [
       "0.6296296296296297"
      ]
     },
     "execution_count": 189,
     "metadata": {},
     "output_type": "execute_result"
    }
   ],
   "source": [
    "from sklearn.metrics import recall_score\n",
    "# >>> y_true = [0, 1, 2, 0, 1, 2]\n",
    "# >>> y_pred = [0, 2, 1, 0, 0, 1]\n",
    "# >>> recall_score(y_true, y_pred, average='macro')\n",
    "recall_score(trend_testY, trend_testP, average='binary')"
   ]
  },
  {
   "cell_type": "code",
   "execution_count": 190,
   "metadata": {},
   "outputs": [
    {
     "data": {
      "text/plain": [
       "0.6017699115044248"
      ]
     },
     "execution_count": 190,
     "metadata": {},
     "output_type": "execute_result"
    }
   ],
   "source": [
    "from sklearn.metrics import f1_score\n",
    "f1_score(trend_testY, trend_testP ) #, average='weighted')"
   ]
  },
  {
   "cell_type": "code",
   "execution_count": 135,
   "metadata": {},
   "outputs": [
    {
     "name": "stdout",
     "output_type": "stream",
     "text": [
      "(1, 87)\n",
      "139.21999833809434\n",
      "(87, 1)\n",
      "139.81166\n"
     ]
    }
   ],
   "source": [
    "print(testY.shape)\n",
    "\n",
    "print(testY[0][2]) #.head())\n",
    "\n",
    "print(testPredict.shape)    \n",
    "print(testPredict[2][0]) #.head())"
   ]
  },
  {
   "cell_type": "code",
   "execution_count": 139,
   "metadata": {},
   "outputs": [
    {
     "name": "stdout",
     "output_type": "stream",
     "text": [
      "Test Set Only:\n",
      "Trend prediction performance: 45.97701149425287%\n"
     ]
    },
    {
     "data": {
      "image/png": "[encoded data removed]",
      "text/plain": [
       "<Figure size 2880x1440 with 1 Axes>"
      ]
     },
     "metadata": {},
     "output_type": "display_data"
    }
   ],
   "source": [
    "# print('Overall:')\n",
    "print('Test Set Only:')\n",
    "evaluateY(testY, testPredict)    \n",
    "\n",
    "# print('Test Set Only:')\n",
    "# evaluateY(testY[train_size:], testPredict[train_size:])  \n",
    "\n",
    "plt.figure(figsize=(40,20))\n",
    "plt.plot(testY[0],c='b')\n",
    "plt.plot(testPredict, c = 'r')\n",
    "plt.show()\n"
   ]
  },
  {
   "cell_type": "code",
   "execution_count": null,
   "metadata": {},
   "outputs": [],
   "source": []
  }
 ],
 "metadata": {
  "kernelspec": {
   "display_name": "Python 3",
   "language": "python",
   "name": "python3"
  },
  "language_info": {
   "codemirror_mode": {
    "name": "ipython",
    "version": 3
   },
   "file_extension": ".py",
   "mimetype": "text/x-python",
   "name": "python",
   "nbconvert_exporter": "python",
   "pygments_lexer": "ipython3",
   "version": "3.6.10"
  }
 },
 "nbformat": 4,
 "nbformat_minor": 4
}
